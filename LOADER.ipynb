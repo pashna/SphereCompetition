{
 "cells": [
  {
   "cell_type": "code",
   "execution_count": 1,
   "metadata": {
    "collapsed": true
   },
   "outputs": [],
   "source": [
    "import numpy as np\n",
    "import pandas as pd\n",
    "import commands\n",
    "from random import randint"
   ]
  },
  {
   "cell_type": "code",
   "execution_count": 3,
   "metadata": {
    "collapsed": false
   },
   "outputs": [],
   "source": [
    "df = pd.read_csv(\"X_public.csv\", sep=\",\")"
   ]
  },
  {
   "cell_type": "code",
   "execution_count": 4,
   "metadata": {
    "collapsed": false
   },
   "outputs": [],
   "source": [
    "y = np.empty(len(df))\n",
    "y[:] = np.NAN"
   ]
  },
  {
   "cell_type": "code",
   "execution_count": 6,
   "metadata": {
    "collapsed": true
   },
   "outputs": [],
   "source": [
    "def oracle(x):\n",
    "    query = \"java -cp OracleRegression.jar Oracle \" + str(x[1]) + \" \" + str(x[2]) + \" \" + str(x[3]) + \" \" + \\\n",
    "            str(x[4]) + \" \" + str(x[5]) + \" \" + \" \" + str(x[6]) + \" \" + str(x[7]) + \" \" + \\\n",
    "            str(x[8]) + \" \" + str(x[9]) + \" \" + str(x[10])\n",
    "\n",
    "    return commands.getoutput(query)"
   ]
  },
  {
   "cell_type": "code",
   "execution_count": null,
   "metadata": {
    "collapsed": false
   },
   "outputs": [],
   "source": [
    "ITER_TO_SAVE = 900\n",
    "c = ITER_TO_SAVE\n",
    "while(True):\n",
    "    i = randint(0, 999999)\n",
    "    x = df.iloc[i].as_matrix()\n",
    "    y[i] = oracle(x)\n",
    "    \n",
    "    c -= 1\n",
    "    if c < 0:\n",
    "        c = ITER_TO_SAVE\n",
    "        np.save(\"FILE\", y)\n",
    "        print \"SAVED\""
   ]
  }
 ],
 "metadata": {
  "kernelspec": {
   "display_name": "Python 2",
   "language": "python",
   "name": "python2"
  },
  "language_info": {
   "codemirror_mode": {
    "name": "ipython",
    "version": 2
   },
   "file_extension": ".py",
   "mimetype": "text/x-python",
   "name": "python",
   "nbconvert_exporter": "python",
   "pygments_lexer": "ipython2",
   "version": "2.7.10"
  }
 },
 "nbformat": 4,
 "nbformat_minor": 0
}
